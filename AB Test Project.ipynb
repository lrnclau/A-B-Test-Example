{
 "cells": [
  {
   "cell_type": "code",
   "execution_count": 38,
   "metadata": {
    "collapsed": false,
    "deletable": true,
    "editable": true
   },
   "outputs": [],
   "source": [
    "import numpy as np\n",
    "import pandas as pd\n",
    "import matplotlib.pyplot as plt\n",
    "%matplotlib inline\n",
    "import os\n",
    "import math\n",
    "import scipy\n",
    "from scipy import stats"
   ]
  },
  {
   "cell_type": "code",
   "execution_count": 3,
   "metadata": {
    "collapsed": false,
    "deletable": true,
    "editable": true
   },
   "outputs": [
    {
     "data": {
      "text/plain": [
       "'C:\\\\Users\\\\admin\\\\Desktop\\\\Python Projects\\\\AB Test'"
      ]
     },
     "execution_count": 3,
     "metadata": {},
     "output_type": "execute_result"
    }
   ],
   "source": [
    "os.getcwd()"
   ]
  },
  {
   "cell_type": "code",
   "execution_count": 4,
   "metadata": {
    "collapsed": true,
    "deletable": true,
    "editable": true
   },
   "outputs": [],
   "source": [
    "os.chdir('C:\\\\Users\\\\admin\\\\Desktop\\\\Python Projects\\\\AB Test')"
   ]
  },
  {
   "cell_type": "code",
   "execution_count": 5,
   "metadata": {
    "collapsed": false,
    "deletable": true,
    "editable": true
   },
   "outputs": [
    {
     "data": {
      "text/plain": [
       "'C:\\\\Users\\\\admin\\\\Desktop\\\\Python Projects\\\\AB Test'"
      ]
     },
     "execution_count": 5,
     "metadata": {},
     "output_type": "execute_result"
    }
   ],
   "source": [
    "os.getcwd()"
   ]
  },
  {
   "cell_type": "markdown",
   "metadata": {
    "deletable": true,
    "editable": true
   },
   "source": [
    "# Experiment Overview: Free Trial Screener\n",
    "## (Udacity Project)"
   ]
  },
  {
   "cell_type": "markdown",
   "metadata": {
    "deletable": true,
    "editable": true
   },
   "source": [
    "At the time of this experiment, Udacity courses currently have two options on the course overview page: \"start free trial\", and \"access course materials\". If the student clicks \"start free trial\", they will be asked to enter their credit card information, and then they will be enrolled in a free trial for the paid version of the course. After 14 days, they will automatically be charged unless they cancel first. If the student clicks \"access course materials\", they will be able to view the videos and take the quizzes for free, but they will not receive coaching support or a verified certificate, and they will not submit their final project for feedback.\n",
    "\n",
    "\n",
    "In the experiment, Udacity tested a change where if the student clicked \"start free trial\", they were asked how much time they had available to devote to the course. If the student indicated 5 or more hours per week, they would be taken through the checkout process as usual. If they indicated fewer than 5 hours per week, a message would appear indicating that Udacity courses usually require a greater time commitment for successful completion, and suggesting that the student might like to access the course materials for free. At this point, the student would have the option to continue enrolling in the free trial, or access the course materials for free instead. \n",
    "\n",
    "The hypothesis was that this might set clearer expectations for students upfront, thus reducing the number of frustrated students who left the free trial because they didn't have enough time—without significantly reducing the number of students to continue past the free trial and eventually complete the course. If this hypothesis held true, Udacity could improve the overall student experience and improve coaches' capacity to support students who are likely to complete the course.\n",
    "\n",
    "\n",
    "The unit of diversion is a cookie, although if the student enrolls in the free trial, they are tracked by user-id from that point forward. The same user-id cannot enroll in the free trial twice. For users that do not enroll, their user-id is not tracked in the experiment, even if they were signed in when they visited the course overview page."
   ]
  },
  {
   "cell_type": "markdown",
   "metadata": {
    "deletable": true,
    "editable": true
   },
   "source": [
    "# Step 1: Metric Choice"
   ]
  },
  {
   "cell_type": "markdown",
   "metadata": {
    "deletable": true,
    "editable": true
   },
   "source": [
    "## Invariant Metrics"
   ]
  },
  {
   "cell_type": "markdown",
   "metadata": {
    "deletable": true,
    "editable": true
   },
   "source": [
    "The purpose of invariant metrics is to ensure that the experiment setup is correct. The metrics chosen are not supposed to be affected by the experiment and should not differ between the control and experiment groups"
   ]
  },
  {
   "cell_type": "markdown",
   "metadata": {
    "deletable": true,
    "editable": true
   },
   "source": [
    "* **Number of cookies:** Number of unique cookies to view the course overview page <br>\n",
    "* **Number of clicks:** Number of unique cookies to click the \"Start free trial\" button <br>\n",
    "* **Click-through-probability:** Number of unique cookies to click the \"Start free trial\" button divided by the number of unique cookies to view the course overview page"
   ]
  },
  {
   "cell_type": "markdown",
   "metadata": {
    "deletable": true,
    "editable": true
   },
   "source": [
    "## Evaluation Metrics"
   ]
  },
  {
   "cell_type": "markdown",
   "metadata": {
    "deletable": true,
    "editable": true
   },
   "source": [
    "Metrics that are expected to change after the experiment, which are used to determine if our hypothesis is valid. The hypothesis is that if students who clicked the \"start free trial\" were asked how much time they had to devote to the course and had more clear expectation set, then more students would continue past the free trial and eventually complete the course"
   ]
  },
  {
   "cell_type": "markdown",
   "metadata": {
    "deletable": true,
    "editable": true
   },
   "source": [
    "* **Gross Conversion:** Number of user-ids to complete checkout and enroll in the free trial divided by the number of unique cookies to click the \"Start free trial\" button <br>\n",
    "* **Retention:** Number of user-ids to remain enrolled past the 14-day boundary (and thus make at least one payment) divided by number of user-ids to co mplete checkout <br>\n",
    "* **Net Conversion:** Number of user-ids to remain enrolled past the 14-day boundary (and thurs make at least one payment) divided by the number of unique cookies to click the \"Start free trial\" button"
   ]
  },
  {
   "cell_type": "markdown",
   "metadata": {
    "deletable": true,
    "editable": true
   },
   "source": [
    "# Step 2: Calculating Standard Deviation"
   ]
  },
  {
   "cell_type": "markdown",
   "metadata": {
    "deletable": true,
    "editable": true
   },
   "source": [
    "### Reading in Data"
   ]
  },
  {
   "cell_type": "code",
   "execution_count": 24,
   "metadata": {
    "collapsed": false,
    "deletable": true,
    "editable": true
   },
   "outputs": [],
   "source": [
    "xls = pd.ExcelFile('C:\\\\Users\\\\admin\\\\Desktop\\\\Python Projects\\\\AB Test\\\\Final Project Results.xlsx')\n",
    "xls2 = pd.ExcelFile('C:\\\\Users\\\\admin\\\\Desktop\\\\Python Projects\\\\AB Test\\\\Final Project Baseline Values.xlsx')\n",
    "baseline = pd.read_excel(xls2,'Sheet1',header = None, names = ['metric','value'])\n",
    "control = pd.read_excel(xls,'Control')\n",
    "experiment = pd.read_excel(xls,'Experiment')"
   ]
  },
  {
   "cell_type": "code",
   "execution_count": 25,
   "metadata": {
    "collapsed": false,
    "deletable": true,
    "editable": true
   },
   "outputs": [
    {
     "data": {
      "text/html": [
       "<div>\n",
       "<table border=\"1\" class=\"dataframe\">\n",
       "  <thead>\n",
       "    <tr style=\"text-align: right;\">\n",
       "      <th></th>\n",
       "      <th>metric</th>\n",
       "      <th>value</th>\n",
       "    </tr>\n",
       "  </thead>\n",
       "  <tbody>\n",
       "    <tr>\n",
       "      <th>0</th>\n",
       "      <td>Unique cookies to view course overview page pe...</td>\n",
       "      <td>40000.000000</td>\n",
       "    </tr>\n",
       "    <tr>\n",
       "      <th>1</th>\n",
       "      <td>Unique cookies to click \"Start free trial\" per...</td>\n",
       "      <td>3200.000000</td>\n",
       "    </tr>\n",
       "    <tr>\n",
       "      <th>2</th>\n",
       "      <td>Enrollments per day:</td>\n",
       "      <td>660.000000</td>\n",
       "    </tr>\n",
       "    <tr>\n",
       "      <th>3</th>\n",
       "      <td>Click-through-probability on \"Start free trial\":</td>\n",
       "      <td>0.080000</td>\n",
       "    </tr>\n",
       "    <tr>\n",
       "      <th>4</th>\n",
       "      <td>Probability of enrolling, given click:</td>\n",
       "      <td>0.206250</td>\n",
       "    </tr>\n",
       "    <tr>\n",
       "      <th>5</th>\n",
       "      <td>Probability of payment, given enroll:</td>\n",
       "      <td>0.530000</td>\n",
       "    </tr>\n",
       "    <tr>\n",
       "      <th>6</th>\n",
       "      <td>Probability of payment, given click</td>\n",
       "      <td>0.109313</td>\n",
       "    </tr>\n",
       "  </tbody>\n",
       "</table>\n",
       "</div>"
      ],
      "text/plain": [
       "                                              metric         value\n",
       "0  Unique cookies to view course overview page pe...  40000.000000\n",
       "1  Unique cookies to click \"Start free trial\" per...   3200.000000\n",
       "2                               Enrollments per day:    660.000000\n",
       "3   Click-through-probability on \"Start free trial\":      0.080000\n",
       "4             Probability of enrolling, given click:      0.206250\n",
       "5              Probability of payment, given enroll:      0.530000\n",
       "6                Probability of payment, given click      0.109313"
      ]
     },
     "execution_count": 25,
     "metadata": {},
     "output_type": "execute_result"
    }
   ],
   "source": [
    "baseline.head(10)"
   ]
  },
  {
   "cell_type": "code",
   "execution_count": 26,
   "metadata": {
    "collapsed": false,
    "deletable": true,
    "editable": true
   },
   "outputs": [
    {
     "data": {
      "text/html": [
       "<div>\n",
       "<table border=\"1\" class=\"dataframe\">\n",
       "  <thead>\n",
       "    <tr style=\"text-align: right;\">\n",
       "      <th></th>\n",
       "      <th>Date</th>\n",
       "      <th>Pageviews</th>\n",
       "      <th>Clicks</th>\n",
       "      <th>Enrollments</th>\n",
       "      <th>Payments</th>\n",
       "    </tr>\n",
       "  </thead>\n",
       "  <tbody>\n",
       "    <tr>\n",
       "      <th>0</th>\n",
       "      <td>Sat, Oct 11</td>\n",
       "      <td>7723</td>\n",
       "      <td>687</td>\n",
       "      <td>134.0</td>\n",
       "      <td>70.0</td>\n",
       "    </tr>\n",
       "    <tr>\n",
       "      <th>1</th>\n",
       "      <td>Sun, Oct 12</td>\n",
       "      <td>9102</td>\n",
       "      <td>779</td>\n",
       "      <td>147.0</td>\n",
       "      <td>70.0</td>\n",
       "    </tr>\n",
       "    <tr>\n",
       "      <th>2</th>\n",
       "      <td>Mon, Oct 13</td>\n",
       "      <td>10511</td>\n",
       "      <td>909</td>\n",
       "      <td>167.0</td>\n",
       "      <td>95.0</td>\n",
       "    </tr>\n",
       "    <tr>\n",
       "      <th>3</th>\n",
       "      <td>Tue, Oct 14</td>\n",
       "      <td>9871</td>\n",
       "      <td>836</td>\n",
       "      <td>156.0</td>\n",
       "      <td>105.0</td>\n",
       "    </tr>\n",
       "    <tr>\n",
       "      <th>4</th>\n",
       "      <td>Wed, Oct 15</td>\n",
       "      <td>10014</td>\n",
       "      <td>837</td>\n",
       "      <td>163.0</td>\n",
       "      <td>64.0</td>\n",
       "    </tr>\n",
       "  </tbody>\n",
       "</table>\n",
       "</div>"
      ],
      "text/plain": [
       "          Date  Pageviews  Clicks  Enrollments  Payments\n",
       "0  Sat, Oct 11       7723     687        134.0      70.0\n",
       "1  Sun, Oct 12       9102     779        147.0      70.0\n",
       "2  Mon, Oct 13      10511     909        167.0      95.0\n",
       "3  Tue, Oct 14       9871     836        156.0     105.0\n",
       "4  Wed, Oct 15      10014     837        163.0      64.0"
      ]
     },
     "execution_count": 26,
     "metadata": {},
     "output_type": "execute_result"
    }
   ],
   "source": [
    "control.head()"
   ]
  },
  {
   "cell_type": "code",
   "execution_count": 9,
   "metadata": {
    "collapsed": false,
    "deletable": true,
    "editable": true
   },
   "outputs": [
    {
     "data": {
      "text/html": [
       "<div>\n",
       "<table border=\"1\" class=\"dataframe\">\n",
       "  <thead>\n",
       "    <tr style=\"text-align: right;\">\n",
       "      <th></th>\n",
       "      <th>Date</th>\n",
       "      <th>Pageviews</th>\n",
       "      <th>Clicks</th>\n",
       "      <th>Enrollments</th>\n",
       "      <th>Payments</th>\n",
       "    </tr>\n",
       "  </thead>\n",
       "  <tbody>\n",
       "    <tr>\n",
       "      <th>0</th>\n",
       "      <td>Sat, Oct 11</td>\n",
       "      <td>7716</td>\n",
       "      <td>686</td>\n",
       "      <td>105.0</td>\n",
       "      <td>34.0</td>\n",
       "    </tr>\n",
       "    <tr>\n",
       "      <th>1</th>\n",
       "      <td>Sun, Oct 12</td>\n",
       "      <td>9288</td>\n",
       "      <td>785</td>\n",
       "      <td>116.0</td>\n",
       "      <td>91.0</td>\n",
       "    </tr>\n",
       "    <tr>\n",
       "      <th>2</th>\n",
       "      <td>Mon, Oct 13</td>\n",
       "      <td>10480</td>\n",
       "      <td>884</td>\n",
       "      <td>145.0</td>\n",
       "      <td>79.0</td>\n",
       "    </tr>\n",
       "    <tr>\n",
       "      <th>3</th>\n",
       "      <td>Tue, Oct 14</td>\n",
       "      <td>9867</td>\n",
       "      <td>827</td>\n",
       "      <td>138.0</td>\n",
       "      <td>92.0</td>\n",
       "    </tr>\n",
       "    <tr>\n",
       "      <th>4</th>\n",
       "      <td>Wed, Oct 15</td>\n",
       "      <td>9793</td>\n",
       "      <td>832</td>\n",
       "      <td>140.0</td>\n",
       "      <td>94.0</td>\n",
       "    </tr>\n",
       "  </tbody>\n",
       "</table>\n",
       "</div>"
      ],
      "text/plain": [
       "          Date  Pageviews  Clicks  Enrollments  Payments\n",
       "0  Sat, Oct 11       7716     686        105.0      34.0\n",
       "1  Sun, Oct 12       9288     785        116.0      91.0\n",
       "2  Mon, Oct 13      10480     884        145.0      79.0\n",
       "3  Tue, Oct 14       9867     827        138.0      92.0\n",
       "4  Wed, Oct 15       9793     832        140.0      94.0"
      ]
     },
     "execution_count": 9,
     "metadata": {},
     "output_type": "execute_result"
    }
   ],
   "source": [
    "experiment.head()"
   ]
  },
  {
   "cell_type": "markdown",
   "metadata": {
    "deletable": true,
    "editable": true
   },
   "source": [
    "### Distribution"
   ]
  },
  {
   "cell_type": "markdown",
   "metadata": {
    "deletable": true,
    "editable": true
   },
   "source": [
    "Distribution is assumed to be Binomial, which will be a normal distribution for the sample sizes. <br>\n",
    "\n",
    "Would typically look at the distribution of the underlying data used for the baseline in order to determine the distribution"
   ]
  },
  {
   "cell_type": "markdown",
   "metadata": {
    "deletable": true,
    "editable": true
   },
   "source": [
    "### Calculation"
   ]
  },
  {
   "cell_type": "markdown",
   "metadata": {
    "deletable": true,
    "editable": true
   },
   "source": [
    "Baseline values are for 40,000 pageviews, but our sample groups are composed of only 5,000 cookies. In order to scale the baseline values to match the groups they can be scaled down by a factor (Number of pageviews in samples/Number of all pageviews in a day)"
   ]
  },
  {
   "cell_type": "markdown",
   "metadata": {
    "deletable": true,
    "editable": true
   },
   "source": [
    "Standard Deviation = sqrt(p(1-p)/N) <br>\n",
    "p = probability of metrics <br>\n",
    "n = number of users <br>"
   ]
  },
  {
   "cell_type": "markdown",
   "metadata": {
    "deletable": true,
    "editable": true
   },
   "source": [
    "### Standard Deviation for Evaluation Metrics"
   ]
  },
  {
   "cell_type": "code",
   "execution_count": 10,
   "metadata": {
    "collapsed": false,
    "deletable": true,
    "editable": true
   },
   "outputs": [
    {
     "name": "stdout",
     "output_type": "stream",
     "text": [
      "Gross Conversion Standard Deviation =  0.020230604137049392\n"
     ]
    }
   ],
   "source": [
    "# Gross Conversion\n",
    "pgc = .20625\n",
    "n = .08\n",
    "pgc_std = math.sqrt(pgc*(1-pgc)/(5000*n))\n",
    "print('Gross Conversion Standard Deviation = ', pgc_std)"
   ]
  },
  {
   "cell_type": "code",
   "execution_count": 11,
   "metadata": {
    "collapsed": false,
    "deletable": true,
    "editable": true
   },
   "outputs": [
    {
     "name": "stdout",
     "output_type": "stream",
     "text": [
      "Retention Standard Deviation =  0.05494901217850908\n"
     ]
    }
   ],
   "source": [
    "# Retention\n",
    "pr = .53\n",
    "n = .08 * .20625\n",
    "pr_std = math.sqrt(pr*(1-pr)/(5000*n))\n",
    "print('Retention Standard Deviation = ', pr_std)"
   ]
  },
  {
   "cell_type": "code",
   "execution_count": 12,
   "metadata": {
    "collapsed": false,
    "deletable": true,
    "editable": true
   },
   "outputs": [
    {
     "name": "stdout",
     "output_type": "stream",
     "text": [
      "Net Conversion Standard Deviation =  0.015601575884425905\n"
     ]
    }
   ],
   "source": [
    "# Net Conversion\n",
    "pnc = .109313\n",
    "n = .08\n",
    "pnc_std = math.sqrt(pnc*(1-pnc)/(5000*n))\n",
    "print('Net Conversion Standard Deviation = ', pnc_std)"
   ]
  },
  {
   "cell_type": "markdown",
   "metadata": {
    "deletable": true,
    "editable": true
   },
   "source": [
    "# Step 3: Determining the number of Pageviews Needed for Experiment"
   ]
  },
  {
   "cell_type": "markdown",
   "metadata": {
    "deletable": true,
    "editable": true
   },
   "source": [
    "To calculate the number of samples needed for each metric, I can use an [online calculator](http://www.evanmiller.org/ab-testing/sample-size.html). <br>\n",
    "\n",
    "Alpha will be 5% which signifies a normal distribution with a 95% confidence interval <br>\n",
    "Beta will be 20% which is typical <br>\n",
    "Minimum Detectable Effect (dmin) will be 1% <br>\n",
    "Baseline Conversion rate is dependent on the metric <br>\n"
   ]
  },
  {
   "cell_type": "markdown",
   "metadata": {
    "deletable": true,
    "editable": true
   },
   "source": [
    "* **Gross Conversion** <br>\n",
    "baseline = .20625 <br>\n",
    "Sample size = 25,835 <br>\n",
    "Total sample size = 25,835 x 2 = 51,670 <br>\n",
    "(Because there is two groups experimental and control there is a multiple of 2) <br>\n",
    "(sample size has the units of enrollments and has to be converted to pageviews) <br>\n",
    "Enrollments per day/Unique cookies to click = clicks/Unique pageviews <br>\n",
    "**Pageviews = 51,670/.08 = 645,875 **"
   ]
  },
  {
   "cell_type": "markdown",
   "metadata": {
    "deletable": true,
    "editable": true
   },
   "source": [
    "* **Retention** <br>\n",
    "baseline = .53 <br>\n",
    "Sample size = 39,115 <br>\n",
    "Total sample size = 39,115 x 2 = 78,230 <br>\n",
    "(Because there is two groups experimental and control there is a multiple of 2) <br>\n",
    "(sample size has the units of enrollments and has to be converted to pageviews) <br>\n",
    "Enrollments per day/Unique cookies to click = Enrollments per day/Unique pageviews <br>\n",
    "**Pageviews = 78,230/(660/40,000) = 4,741,213 **"
   ]
  },
  {
   "cell_type": "markdown",
   "metadata": {
    "deletable": true,
    "editable": true
   },
   "source": [
    "* **Net Conversion** <br>\n",
    "baseline = .109313 <br>\n",
    "Sample size = 15,463 <br>\n",
    "Total sample size = 15,463 x 2 = 30,926 <br>\n",
    "(Because there is two groups experimental and control there is a multiple of 2) <br>\n",
    "(sample size has the units of enrollments and has to be converted to pageviews) <br>\n",
    "Enrollments per day/Unique cookies to click = clicks/Unique pageviews <br>\n",
    "**Pageviews = 30,926/.08 = 386,575 **"
   ]
  },
  {
   "cell_type": "markdown",
   "metadata": {
    "deletable": true,
    "editable": true
   },
   "source": [
    "## Methods to Increase Page Views\n",
    "* Increase confidence leve (1-alpha) <br>\n",
    "* Higher sensitivity (1-beta) <br>\n",
    "* Decrease practitical significance level (minimum detectable effect, dmin) <br>"
   ]
  },
  {
   "cell_type": "markdown",
   "metadata": {
    "deletable": true,
    "editable": true
   },
   "source": [
    "## Methods to Decrease Page Views\n",
    "* Decrease confidence leve (1-alpha) <br>\n",
    "* Lower sensitivity (1-beta) <br>\n",
    "* Increase practitical significance level (minimum detectable effect, dmin) <br>"
   ]
  },
  {
   "cell_type": "markdown",
   "metadata": {
    "deletable": true,
    "editable": true
   },
   "source": [
    "## Duration vs Exposure"
   ]
  },
  {
   "cell_type": "markdown",
   "metadata": {
    "deletable": true,
    "editable": true
   },
   "source": [
    "Because the number of pageviews for retention is is 4.7 million which is significantly larger than the other metrics, it will be excluded in the test. <br>\n",
    "\n",
    "The number of pageviews then needed for the experiment will be the next largest number which is 645,875 pageviews <br>\n",
    "\n",
    "The experiment will only be conducted on a percentage of the traffic to the website such as 50%. The number of days needed to run this experiment is calculated by 645,875/(40,000 x .5) = 32.29 or **33 days** <br>\n",
    "(40,000 is the baseline number of visitors per day)"
   ]
  },
  {
   "cell_type": "markdown",
   "metadata": {
    "deletable": true,
    "editable": true
   },
   "source": [
    "# Step 4: Experiment Analysis"
   ]
  },
  {
   "cell_type": "markdown",
   "metadata": {
    "deletable": true,
    "editable": true
   },
   "source": [
    "## Sanity Checks\n",
    "To ensure that the experiment has valid results the confidence intervals for the control and experiments groups will be compared to the observed values in the experiment\n",
    "\n",
    "The traffic is assumed to be divided between the control and experimentl group by 50:50 (p = .5)\n",
    "With a 95% confidence interval the z-score will be 1.96"
   ]
  },
  {
   "cell_type": "markdown",
   "metadata": {
    "deletable": true,
    "editable": true
   },
   "source": [
    "### Number of Cookies"
   ]
  },
  {
   "cell_type": "code",
   "execution_count": 13,
   "metadata": {
    "collapsed": false,
    "deletable": true,
    "editable": true
   },
   "outputs": [
    {
     "name": "stdout",
     "output_type": "stream",
     "text": [
      "The margin of error =  0.0011796078509768765\n",
      "The confidence interval is between  0.49882039214902313  and  0.5011796078509769\n",
      "The observed value is  0.5006396668806133\n"
     ]
    }
   ],
   "source": [
    "controlc = control['Pageviews'].sum()\n",
    "experimentc = experiment['Pageviews'].sum()\n",
    "p = .5\n",
    "z = 1.96\n",
    "std = math.sqrt(p*(1-p)/(controlc +experimentc))\n",
    "margin_of_error = z * std\n",
    "lower_bound = p - margin_of_error\n",
    "upper_bound = p + margin_of_error\n",
    "observed = controlc/(controlc+experimentc)\n",
    "\n",
    "print('The margin of error = ', margin_of_error)\n",
    "print('The confidence interval is between ', lower_bound, ' and ',upper_bound)\n",
    "print('The observed value is ', observed)"
   ]
  },
  {
   "cell_type": "markdown",
   "metadata": {
    "deletable": true,
    "editable": true
   },
   "source": [
    "Because the observed value is between the confidence interval the number of cookies passes the sanity check"
   ]
  },
  {
   "cell_type": "markdown",
   "metadata": {
    "deletable": true,
    "editable": true
   },
   "source": [
    "### Number of Clicks"
   ]
  },
  {
   "cell_type": "code",
   "execution_count": 14,
   "metadata": {
    "collapsed": false,
    "deletable": true,
    "editable": true
   },
   "outputs": [
    {
     "name": "stdout",
     "output_type": "stream",
     "text": [
      "The margin of error =  0.0041155042762105335\n",
      "The confidence interval is between  0.49588449572378945  and  0.5041155042762105\n",
      "The observed value is  0.5004673474066628\n"
     ]
    }
   ],
   "source": [
    "controlc = control['Clicks'].sum()\n",
    "experimentc = experiment['Clicks'].sum()\n",
    "p = .5\n",
    "z = 1.96\n",
    "std = math.sqrt(p*(1-p)/(controlc +experimentc))\n",
    "margin_of_error = z * std\n",
    "lower_bound = p - margin_of_error\n",
    "upper_bound = p + margin_of_error\n",
    "observed = controlc/(controlc+experimentc)\n",
    "\n",
    "print('The margin of error = ', margin_of_error)\n",
    "print('The confidence interval is between ', lower_bound, ' and ',upper_bound)\n",
    "print('The observed value is ', observed)"
   ]
  },
  {
   "cell_type": "markdown",
   "metadata": {
    "deletable": true,
    "editable": true
   },
   "source": [
    "Because the observed value is between the confidence interval the number of clicks passes the sanity check"
   ]
  },
  {
   "cell_type": "markdown",
   "metadata": {
    "deletable": true,
    "editable": true
   },
   "source": [
    "### Click-through-probability"
   ]
  },
  {
   "cell_type": "markdown",
   "metadata": {
    "deletable": true,
    "editable": true
   },
   "source": [
    "Because this is a rate the standard deviation is defined as the sqrt(p_control(1-p_control)/n_experiment)"
   ]
  },
  {
   "cell_type": "code",
   "execution_count": 15,
   "metadata": {
    "collapsed": false,
    "deletable": true,
    "editable": true
   },
   "outputs": [
    {
     "name": "stdout",
     "output_type": "stream",
     "text": [
      "The margin of error =  0.0009166257431471257\n",
      "The confidence interval is between  0.08120918783142969  and  0.08304243931772395\n",
      "The observed value is  0.08218244066616376\n"
     ]
    }
   ],
   "source": [
    "controlc = control['Clicks'].sum()/control['Pageviews'].sum()\n",
    "experimentc = experiment['Clicks'].sum()/experiment['Pageviews'].sum()\n",
    "n = experiment['Pageviews'].sum()\n",
    "p = controlc\n",
    "z = 1.96\n",
    "std = math.sqrt(p*(1-p)/(n))\n",
    "margin_of_error = z * std\n",
    "lower_bound = p - margin_of_error\n",
    "upper_bound = p + margin_of_error\n",
    "observed = experimentc\n",
    "\n",
    "print('The margin of error = ', margin_of_error)\n",
    "print('The confidence interval is between ', lower_bound, ' and ',upper_bound)\n",
    "print('The observed value is ', observed)"
   ]
  },
  {
   "cell_type": "markdown",
   "metadata": {
    "deletable": true,
    "editable": true
   },
   "source": [
    "Because the observed value is between the confidence interval the click-through-probability passes the sanity check"
   ]
  },
  {
   "cell_type": "markdown",
   "metadata": {
    "deletable": true,
    "editable": true
   },
   "source": [
    "**All invariant metrics passed the sanity check so the experiment is valid to use and analyze**"
   ]
  },
  {
   "cell_type": "markdown",
   "metadata": {
    "deletable": true,
    "editable": true
   },
   "source": [
    "## Results Analysis"
   ]
  },
  {
   "cell_type": "markdown",
   "metadata": {
    "deletable": true,
    "editable": true
   },
   "source": [
    "### Gross Conversion"
   ]
  },
  {
   "cell_type": "code",
   "execution_count": 16,
   "metadata": {
    "collapsed": false,
    "deletable": true,
    "editable": true
   },
   "outputs": [
    {
     "name": "stdout",
     "output_type": "stream",
     "text": [
      "P pooled =  0.20860706740369866\n",
      "Standard Deviation of p pooled =  0.004371675385225936\n",
      "Difference of the groups =  -0.020554874580361565\n",
      "Confidence Interval is between  -0.0291233583354044 and -0.01198639082531873\n"
     ]
    }
   ],
   "source": [
    "#only include clicks that have enrollments\n",
    "n_control = control[control.Enrollments.notnull()]['Clicks'].sum()\n",
    "n_experiment = experiment[experiment.Enrollments.notnull()]['Clicks'].sum()\n",
    "x_control = control['Enrollments'].sum()\n",
    "x_experiment = experiment['Enrollments'].sum()\n",
    "\n",
    "p_pooled = (x_control + x_experiment)/(n_control + n_experiment)\n",
    "se_pooled = math.sqrt(p_pooled*(1-p_pooled)*(1/n_control + 1/n_experiment))\n",
    "\n",
    "d = (x_experiment/n_experiment) - (x_control/n_control)\n",
    "\n",
    "lower_bound = d - (1.96 * se_pooled)\n",
    "upper_bound = d + (1.96 * se_pooled)\n",
    "\n",
    "print('P pooled = ', p_pooled)\n",
    "print('Standard Deviation of p pooled = ', se_pooled)\n",
    "print('Difference of the groups = ', d)\n",
    "print('Confidence Interval is between ', lower_bound, 'and',upper_bound)"
   ]
  },
  {
   "cell_type": "markdown",
   "metadata": {
    "deletable": true,
    "editable": true
   },
   "source": [
    "The confidence interval does not include zero, indicating that the result is **statistically significant**. <br>\n",
    "The difference is not between -1% or 1%, which also means it is **practically significant** <br>\n",
    "*1% was chosen as the practical significance earlier in the project when calculating sample size* <br>\n",
    "*1.96 is the z-score for 95% confidence interval*"
   ]
  },
  {
   "cell_type": "markdown",
   "metadata": {
    "deletable": true,
    "editable": true
   },
   "source": [
    "### Net Conversion"
   ]
  },
  {
   "cell_type": "code",
   "execution_count": 17,
   "metadata": {
    "collapsed": false,
    "deletable": true,
    "editable": true
   },
   "outputs": [
    {
     "name": "stdout",
     "output_type": "stream",
     "text": [
      "P pooled =  0.1151274853124186\n",
      "Standard Deviation of p pooled =  0.0034341335129324238\n",
      "Difference of the groups =  -0.0048737226745441675\n",
      "Confidence Interval is between  -0.011604624359891718 and 0.001857179010803383\n"
     ]
    }
   ],
   "source": [
    "#only include clicks that have payments\n",
    "n_control = control[control.Payments.notnull()]['Clicks'].sum()\n",
    "n_experiment = experiment[experiment.Payments.notnull()]['Clicks'].sum()\n",
    "x_control = control['Payments'].sum()\n",
    "x_experiment = experiment['Payments'].sum()\n",
    "\n",
    "p_pooled = (x_control+x_experiment)/(n_control+n_experiment)\n",
    "se_pooled = math.sqrt(p_pooled*(1-p_pooled)*(1/n_control + 1/n_experiment))\n",
    "\n",
    "d = (x_experiment/n_experiment) - (x_control/n_control)\n",
    "\n",
    "lower_bound = d - (1.96 * se_pooled)\n",
    "upper_bound = d + (1.96 * se_pooled)\n",
    "\n",
    "print('P pooled = ', p_pooled)\n",
    "print('Standard Deviation of p pooled = ', se_pooled)\n",
    "print('Difference of the groups = ', d)\n",
    "print('Confidence Interval is between ', lower_bound, 'and',upper_bound)"
   ]
  },
  {
   "cell_type": "markdown",
   "metadata": {
    "deletable": true,
    "editable": true
   },
   "source": [
    "The confidence interval includes zero, indicating that the result is ** NOT statistically significant**. <br>\n",
    "The difference is also between -1% or 1%, which  means it is **NOT practically significant** <br>\n",
    "*1% was chosen as the practical significance earlier in the project when calculating sample size* <br>\n",
    "*1.96 is the z-score for 95% confidence interval*"
   ]
  },
  {
   "cell_type": "markdown",
   "metadata": {
    "collapsed": true,
    "deletable": true,
    "editable": true
   },
   "source": [
    "### Sign Test (Binomial)"
   ]
  },
  {
   "cell_type": "markdown",
   "metadata": {
    "deletable": true,
    "editable": true
   },
   "source": [
    "Used to double check evaluation metrics by calculating a two-tailed p-value to determine significance.\n",
    "* Differences calculated on a  *daily level* between the control and experiment groups\n",
    "* Positive differences are successed\n",
    "* Negative differences are failtures"
   ]
  },
  {
   "cell_type": "code",
   "execution_count": 31,
   "metadata": {
    "collapsed": false,
    "deletable": true,
    "editable": true
   },
   "outputs": [
    {
     "data": {
      "text/html": [
       "<div>\n",
       "<table border=\"1\" class=\"dataframe\">\n",
       "  <thead>\n",
       "    <tr style=\"text-align: right;\">\n",
       "      <th></th>\n",
       "      <th>date</th>\n",
       "      <th>gc control</th>\n",
       "      <th>gc experiment</th>\n",
       "      <th>nc control</th>\n",
       "      <th>nc experiment</th>\n",
       "      <th>gc sign</th>\n",
       "      <th>nc sign</th>\n",
       "    </tr>\n",
       "  </thead>\n",
       "  <tbody>\n",
       "    <tr>\n",
       "      <th>0</th>\n",
       "      <td>Sat, Oct 11</td>\n",
       "      <td>0.195051</td>\n",
       "      <td>0.153061</td>\n",
       "      <td>0.101892</td>\n",
       "      <td>0.049563</td>\n",
       "      <td>-0.041990</td>\n",
       "      <td>-0.052330</td>\n",
       "    </tr>\n",
       "    <tr>\n",
       "      <th>1</th>\n",
       "      <td>Sun, Oct 12</td>\n",
       "      <td>0.188703</td>\n",
       "      <td>0.147771</td>\n",
       "      <td>0.089859</td>\n",
       "      <td>0.115924</td>\n",
       "      <td>-0.040933</td>\n",
       "      <td>0.026065</td>\n",
       "    </tr>\n",
       "    <tr>\n",
       "      <th>2</th>\n",
       "      <td>Mon, Oct 13</td>\n",
       "      <td>0.183718</td>\n",
       "      <td>0.164027</td>\n",
       "      <td>0.104510</td>\n",
       "      <td>0.089367</td>\n",
       "      <td>-0.019691</td>\n",
       "      <td>-0.015144</td>\n",
       "    </tr>\n",
       "    <tr>\n",
       "      <th>3</th>\n",
       "      <td>Tue, Oct 14</td>\n",
       "      <td>0.186603</td>\n",
       "      <td>0.166868</td>\n",
       "      <td>0.125598</td>\n",
       "      <td>0.111245</td>\n",
       "      <td>-0.019735</td>\n",
       "      <td>-0.014353</td>\n",
       "    </tr>\n",
       "    <tr>\n",
       "      <th>4</th>\n",
       "      <td>Wed, Oct 15</td>\n",
       "      <td>0.194743</td>\n",
       "      <td>0.168269</td>\n",
       "      <td>0.076464</td>\n",
       "      <td>0.112981</td>\n",
       "      <td>-0.026474</td>\n",
       "      <td>0.036517</td>\n",
       "    </tr>\n",
       "  </tbody>\n",
       "</table>\n",
       "</div>"
      ],
      "text/plain": [
       "          date  gc control  gc experiment  nc control  nc experiment  \\\n",
       "0  Sat, Oct 11    0.195051       0.153061    0.101892       0.049563   \n",
       "1  Sun, Oct 12    0.188703       0.147771    0.089859       0.115924   \n",
       "2  Mon, Oct 13    0.183718       0.164027    0.104510       0.089367   \n",
       "3  Tue, Oct 14    0.186603       0.166868    0.125598       0.111245   \n",
       "4  Wed, Oct 15    0.194743       0.168269    0.076464       0.112981   \n",
       "\n",
       "    gc sign   nc sign  \n",
       "0 -0.041990 -0.052330  \n",
       "1 -0.040933  0.026065  \n",
       "2 -0.019691 -0.015144  \n",
       "3 -0.019735 -0.014353  \n",
       "4 -0.026474  0.036517  "
      ]
     },
     "execution_count": 31,
     "metadata": {},
     "output_type": "execute_result"
    }
   ],
   "source": [
    "#Daily Table\n",
    "signs = pd.DataFrame()\n",
    "signs['date'] = control[control.Payments.notnull()]['Date']\n",
    "\n",
    "signs['gc control'] = control['Enrollments'] / control[control.Enrollments.notnull()]['Clicks']\n",
    "signs['gc experiment'] = experiment['Enrollments'] / experiment[experiment.Enrollments.notnull()]['Clicks']\n",
    "signs['nc control'] = control['Payments'] / control[control.Payments.notnull()]['Clicks']\n",
    "signs['nc experiment'] = experiment['Payments'] / experiment[experiment.Payments.notnull()]['Clicks']\n",
    "\n",
    "signs['gc sign'] = signs['gc experiment'] - signs['gc control']\n",
    "signs['nc sign'] = signs['nc experiment'] - signs['nc control']\n",
    "\n",
    "signs.head()"
   ]
  },
  {
   "cell_type": "code",
   "execution_count": 36,
   "metadata": {
    "collapsed": false,
    "deletable": true,
    "editable": true
   },
   "outputs": [
    {
     "name": "stdout",
     "output_type": "stream",
     "text": [
      "Gross Conversion success rate is  4 / 23\n",
      "Net Conversion success rate is  10 / 23\n"
     ]
    }
   ],
   "source": [
    "trials = len(experiment[experiment.Enrollments.notnull()])\n",
    "gc_success = len(signs[signs['gc sign'] > 0])\n",
    "nc_success = len(signs[signs['nc sign'] > 0])\n",
    "\n",
    "print('Gross Conversion success rate is ', gc_success,'/',trials)\n",
    "print('Net Conversion success rate is ', nc_success,'/',trials)"
   ]
  },
  {
   "cell_type": "code",
   "execution_count": 45,
   "metadata": {
    "collapsed": false,
    "deletable": true,
    "editable": true
   },
   "outputs": [
    {
     "name": "stdout",
     "output_type": "stream",
     "text": [
      "Gross Conversion p-value is  0.00259947776794\n",
      "Net Conversion p-value is  0.677639484406\n"
     ]
    }
   ],
   "source": [
    "gc_pvalue = scipy.stats.binom_test(gc_success,n = trials, p = 0.5)\n",
    "nc_pvalue = scipy.stats.binom_test(nc_success,n = trials, p = 0.5)\n",
    "\n",
    "print('Gross Conversion p-value is ', gc_pvalue)\n",
    "print('Net Conversion p-value is ', nc_pvalue)"
   ]
  },
  {
   "cell_type": "markdown",
   "metadata": {
    "deletable": true,
    "editable": true
   },
   "source": [
    "The Gross Conversion p-value is less than .05, indicating that it is significant whereas the Net Conversion p-value is greater than .05 indicating it is not significant"
   ]
  },
  {
   "cell_type": "markdown",
   "metadata": {
    "deletable": true,
    "editable": true
   },
   "source": [
    "# Summary"
   ]
  },
  {
   "cell_type": "markdown",
   "metadata": {
    "deletable": true,
    "editable": true
   },
   "source": [
    "An experiment was conducted to see the effect of when students know how much time is needed to complete a course before enrolling. \n",
    "\n",
    "Invariant metrics (cookies, clicks, click through probability) were chosen to ensure that the experiment was valid and Evaluation metrics (gross conversion, net conversion) were chosen in order to determine if the change was significant both statistically and practically.\n",
    "\n",
    "All invariant metrics passed the sanity checks, indicating the experiment was safe to evaluate.\n",
    "\n",
    "Gross conversions was significant in both the size and sign test, while Net conversions was not significant in those tests.\n",
    "\n",
    "In order to launch the experiment, both Evaluation metrics had to be significant because the Bonferroni Correction was not used.\n",
    "The Bonferroni Correction is a method to evaluate multiple metrics at the same time, however it produces very conservative numbers when metrics are correlated with each other."
   ]
  }
 ],
 "metadata": {
  "kernelspec": {
   "display_name": "Python 3",
   "language": "python",
   "name": "python3"
  },
  "language_info": {
   "codemirror_mode": {
    "name": "ipython",
    "version": 3
   },
   "file_extension": ".py",
   "mimetype": "text/x-python",
   "name": "python",
   "nbconvert_exporter": "python",
   "pygments_lexer": "ipython3",
   "version": "3.6.0"
  }
 },
 "nbformat": 4,
 "nbformat_minor": 2
}
